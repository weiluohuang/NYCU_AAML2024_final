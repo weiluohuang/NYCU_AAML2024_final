{
  "cells": [
    {
      "cell_type": "markdown",
      "metadata": {
        "id": "-Ewx5q2cOxdd"
      },
      "source": [
        "# AAML Final Project"
      ]
    },
    {
      "cell_type": "markdown",
      "metadata": {
        "id": "iJMMxm4PO2jW"
      },
      "source": [
        "## Model Definition"
      ]
    },
    {
      "cell_type": "markdown",
      "metadata": {
        "id": "jb4sgIcqPRAn"
      },
      "source": [
        "Reference form: https://github.com/mlcommons/tiny/blob/master/benchmark/experimental/training_torch/image_classification/utils/model.py"
      ]
    },
    {
      "cell_type": "code",
      "execution_count": null,
      "metadata": {
        "id": "SXNJtUCXOpXC"
      },
      "outputs": [],
      "source": [
        "import torch\n",
        "from torch import nn\n",
        "from torch.nn import functional as F\n",
        "\n",
        "\n",
        "class ResNetBlock(nn.Module):\n",
        "    def __init__(\n",
        "        self,\n",
        "        in_channels: int,\n",
        "        out_channels: int,\n",
        "        stride: int = 1,\n",
        "    ):\n",
        "        super().__init__()\n",
        "        self.block = nn.Sequential(\n",
        "            nn.Conv2d(\n",
        "                in_channels=in_channels,\n",
        "                out_channels=out_channels,\n",
        "                kernel_size=3,\n",
        "                padding=1,\n",
        "                bias=True,\n",
        "                stride=stride,\n",
        "            ),\n",
        "            nn.BatchNorm2d(num_features=out_channels),\n",
        "            nn.ReLU(inplace=True),\n",
        "            nn.Conv2d(\n",
        "                in_channels=out_channels,\n",
        "                out_channels=out_channels,\n",
        "                kernel_size=3,\n",
        "                padding=1,\n",
        "                bias=True,\n",
        "            ),\n",
        "            nn.BatchNorm2d(num_features=out_channels),\n",
        "        )\n",
        "        if in_channels == out_channels:\n",
        "            self.residual = nn.Identity()\n",
        "        else:\n",
        "            self.residual = nn.Conv2d(\n",
        "                in_channels=in_channels,\n",
        "                out_channels=out_channels,\n",
        "                kernel_size=1,\n",
        "                stride=stride,\n",
        "            )\n",
        "\n",
        "    def forward(self, inputs):\n",
        "        x = self.block(inputs)\n",
        "        y = self.residual(inputs)\n",
        "        return F.relu(x + y)\n",
        "\n",
        "\n",
        "class Resnet8v1EEMBC(nn.Module):\n",
        "    def __init__(self):\n",
        "        super().__init__()\n",
        "        self.stem = nn.Sequential(\n",
        "            nn.Conv2d(\n",
        "                in_channels=3, out_channels=16, kernel_size=3, padding=1, bias=True\n",
        "            ),\n",
        "            nn.BatchNorm2d(num_features=16),\n",
        "            nn.ReLU(inplace=True),\n",
        "        )\n",
        "\n",
        "        self.first_stack = ResNetBlock(in_channels=16, out_channels=16, stride=1)\n",
        "        self.second_stack = ResNetBlock(in_channels=16, out_channels=32, stride=2)\n",
        "        self.third_stack = ResNetBlock(in_channels=32, out_channels=64, stride=2)\n",
        "        self.avgpool = nn.AdaptiveAvgPool2d((1, 1))\n",
        "        self.fc = nn.Linear(in_features=64, out_features=10)\n",
        "\n",
        "    def forward(self, inputs):\n",
        "        x = self.stem(inputs)\n",
        "        x = self.first_stack(x)\n",
        "        x = self.second_stack(x)\n",
        "        x = self.third_stack(x)\n",
        "        x = self.avgpool(x)\n",
        "        x = torch.flatten(x, 1)\n",
        "        x = self.fc(x)\n",
        "        return x"
      ]
    },
    {
      "cell_type": "markdown",
      "metadata": {
        "id": "9jZkGgq3Parh"
      },
      "source": [
        "## Load Dataset"
      ]
    },
    {
      "cell_type": "code",
      "execution_count": null,
      "metadata": {
        "id": "nJ4Ae1N2ft5X"
      },
      "outputs": [],
      "source": [
        "import torchvision.transforms as transforms\n",
        "from torchvision.datasets import CIFAR10\n",
        "from torch.utils.data import DataLoader, random_split\n",
        "\n",
        "# Define the transforms\n",
        "transform_train = transforms.Compose([\n",
        "    transforms.RandomCrop(32, padding=4),\n",
        "    transforms.RandomHorizontalFlip(),\n",
        "    transforms.ToTensor(),\n",
        "    transforms.Normalize((0.4914, 0.4822, 0.4465), (0.2023, 0.1994, 0.2010)),\n",
        "])\n",
        "\n",
        "transform_val = transforms.Compose([\n",
        "    transforms.ToTensor(),\n",
        "    transforms.Normalize((0.4914, 0.4822, 0.4465), (0.2023, 0.1994, 0.2010)),\n",
        "])\n",
        "\n",
        "# Load the full train dataset\n",
        "full_train_dataset = CIFAR10(root='./data', train=True, download=True, transform=transform_train)\n",
        "\n",
        "# Split the dataset into train and validation sets\n",
        "train_size = int(0.8 * len(full_train_dataset))\n",
        "val_size = len(full_train_dataset) - train_size\n",
        "\n",
        "train_dataset, val_dataset = random_split(full_train_dataset, [train_size, val_size])\n",
        "\n",
        "# Update the validation dataset to use the validation transforms\n",
        "val_dataset.dataset.transform = transform_val\n",
        "\n",
        "# Create DataLoaders\n",
        "train_loader = DataLoader(train_dataset, batch_size=128, shuffle=True)\n",
        "val_loader = DataLoader(val_dataset, batch_size=128, shuffle=False)\n",
        "\n",
        "print(f\"Train set size: {len(train_dataset)}\")\n",
        "print(f\"Validation set size: {len(val_dataset)}\")"
      ]
    },
    {
      "cell_type": "markdown",
      "metadata": {
        "id": "q5AJQM5oPXyG"
      },
      "source": [
        "## Training"
      ]
    },
    {
      "cell_type": "markdown",
      "metadata": {
        "id": "iu0OGSVdgNzT"
      },
      "source": [
        "### Load Teacher model"
      ]
    },
    {
      "cell_type": "markdown",
      "metadata": {
        "id": "JEHna8-4kj8H"
      },
      "source": [
        "Import form:https://huggingface.co/edadaltocg/resnet18_cifar10"
      ]
    },
    {
      "cell_type": "code",
      "execution_count": null,
      "metadata": {
        "id": "2_rMh72qgQzV"
      },
      "outputs": [],
      "source": [
        "device = torch.device(\"cuda\" if torch.cuda.is_available() else \"cpu\")\n",
        "import timm\n",
        "teacher_model = timm.create_model(\"resnet18\", pretrained=False).to(device)\n",
        "\n",
        "# override teacher_model\n",
        "teacher_model.conv1 = nn.Conv2d(3, 64, kernel_size=(3, 3), stride=(1, 1), padding=(1, 1), bias=False)\n",
        "teacher_model.maxpool = nn.Identity()  # type: ignore\n",
        "teacher_model.fc = nn.Linear(512,  10)\n",
        "\n",
        "teacher_model.load_state_dict(\n",
        "            torch.hub.load_state_dict_from_url(\n",
        "                      \"https://huggingface.co/edadaltocg/resnet18_cifar10/resolve/main/pytorch_model.bin\",\n",
        "                       map_location=device,\n",
        "                       file_name=\"resnet18_cifar10.pth\",\n",
        "             )\n",
        ")"
      ]
    },
    {
      "cell_type": "markdown",
      "metadata": {
        "id": "Yd2byBcXgW8H"
      },
      "source": [
        "## Dynamic Temperature Knowledge Distillation (DTKD)\n",
        "Reference from: https://arxiv.org/abs/2404.12711"
      ]
    },
    {
      "cell_type": "code",
      "execution_count": null,
      "metadata": {
        "id": "1W7tJi3pgT9r"
      },
      "outputs": [],
      "source": [
        "import os\n",
        "import torch\n",
        "import torch.nn as nn\n",
        "import torch.nn.functional as F\n",
        "\n",
        "def train(teacher_model, student_model, train_loader, val_loader, epochs=50, alpha=3.0, beta=1.0, gamma=1.0, reference_temperature=4, lr=0.001):\n",
        "    # Define the DTKD loss function\n",
        "    def dtkd_loss(student_logits, teacher_logits, labels, reference_temperature, alpha, beta, gamma):\n",
        "        # Avoid numerical instability\n",
        "        eps = 1e-6\n",
        "\n",
        "        # Compute the maximum values of logits\n",
        "        teacher_max, _ = teacher_logits.max(dim=1, keepdim=True)\n",
        "        student_max, _ = student_logits.max(dim=1, keepdim=True)\n",
        "\n",
        "        # Dynamically compute the temperature\n",
        "        T_tea = (2 * teacher_max / (teacher_max + student_max + eps)) * reference_temperature\n",
        "        T_stu = (2 * student_max / (teacher_max + student_max + eps)) * reference_temperature\n",
        "\n",
        "        # Compute soft labels with dynamic temperature\n",
        "        teacher_soft_dynamic = F.softmax(teacher_logits / T_tea, dim=1)\n",
        "        student_soft_dynamic = F.log_softmax(student_logits / T_stu, dim=1)\n",
        "        dtkd_kl_loss = F.kl_div(student_soft_dynamic, teacher_soft_dynamic, reduction='batchmean') * T_tea.mean() * T_stu.mean()\n",
        "\n",
        "        # Traditional KD (fixed temperature)\n",
        "        teacher_soft_fixed = F.softmax(teacher_logits / reference_temperature, dim=1)\n",
        "        student_soft_fixed = F.log_softmax(student_logits / reference_temperature, dim=1)\n",
        "        kl_loss = F.kl_div(student_soft_fixed, teacher_soft_fixed, reduction='batchmean') * (reference_temperature ** 2)\n",
        "\n",
        "        # Cross-entropy loss\n",
        "        ce_loss = F.cross_entropy(student_logits, labels)\n",
        "\n",
        "        # Combine the losses\n",
        "        return alpha * dtkd_kl_loss + beta * kl_loss + gamma * ce_loss\n",
        "\n",
        "    student_model.train()\n",
        "\n",
        "    optimizer = torch.optim.AdamW(\n",
        "        student_model.parameters(),\n",
        "        lr=lr,\n",
        "        weight_decay=0.01\n",
        "    )\n",
        "\n",
        "    scheduler = torch.optim.lr_scheduler.CosineAnnealingLR(optimizer, T_max=epochs)\n",
        "\n",
        "    save_dir = \"./output\"\n",
        "    os.makedirs(save_dir, exist_ok=True)\n",
        "    device = torch.device(\"cuda\" if torch.cuda.is_available() else \"cpu\")\n",
        "\n",
        "    teacher_model.to(device).eval()\n",
        "    student_model.to(device)\n",
        "\n",
        "    best_acc = 0\n",
        "    for epoch in range(epochs):\n",
        "        student_model.train()\n",
        "        running_loss = 0.0\n",
        "        correct_train = 0\n",
        "        total_train = 0\n",
        "\n",
        "        for inputs, labels in train_loader:\n",
        "            inputs, labels = inputs.to(device), labels.to(device)\n",
        "\n",
        "            with torch.no_grad():\n",
        "                teacher_logits = teacher_model(inputs)  # Teacher logits\n",
        "\n",
        "            student_logits = student_model(inputs)  # Student logits\n",
        "            loss = dtkd_loss(student_logits, teacher_logits, labels, reference_temperature, alpha, beta, gamma)\n",
        "\n",
        "            optimizer.zero_grad()\n",
        "            loss.backward()\n",
        "            optimizer.step()\n",
        "\n",
        "            running_loss += loss.item()\n",
        "            _, predicted = student_logits.max(1)\n",
        "            total_train += labels.size(0)\n",
        "            correct_train += predicted.eq(labels).sum().item()\n",
        "\n",
        "        train_loss = running_loss / len(train_loader)\n",
        "        train_acc = 100.0 * correct_train / total_train\n",
        "\n",
        "        student_model.eval()\n",
        "        val_loss = 0.0\n",
        "        correct_val = 0\n",
        "        total_val = 0\n",
        "        with torch.no_grad():\n",
        "            for inputs, labels in val_loader:\n",
        "                inputs, labels = inputs.to(device), labels.to(device)\n",
        "                outputs = student_model(inputs)\n",
        "                loss = F.cross_entropy(outputs, labels)\n",
        "                val_loss += loss.item()\n",
        "                _, predicted = outputs.max(1)\n",
        "                total_val += labels.size(0)\n",
        "                correct_val += predicted.eq(labels).sum().item()\n",
        "\n",
        "        val_loss /= len(val_loader)\n",
        "        val_acc = 100.0 * correct_val / total_val\n",
        "\n",
        "        print(f\"Epoch {epoch + 1}/{epochs} \", end=\"\")\n",
        "        print(f\"Train Loss: {train_loss:.4f}, Train Acc: {train_acc:.2f}% \", end=\"\")\n",
        "        print(f\"val Loss: {val_loss:.4f}, val Acc: {val_acc:.2f}% \")\n",
        "\n",
        "        scheduler.step()\n",
        "\n",
        "        if val_acc > best_acc:\n",
        "            best_acc = val_acc\n",
        "            torch.save(student_model.state_dict(), os.path.join(save_dir, f\"best_model.pth\"))"
      ]
    },
    {
      "cell_type": "code",
      "execution_count": null,
      "metadata": {
        "id": "OAhO4eN1PTn3"
      },
      "outputs": [],
      "source": [
        "model = Resnet8v1EEMBC()\n",
        "train(teacher_model, model, train_loader, val_loader, epochs=200, lr=0.01)"
      ]
    },
    {
      "cell_type": "markdown",
      "metadata": {
        "id": "SUEJ7lSRhIe5"
      },
      "source": [
        "## Pruning"
      ]
    },
    {
      "cell_type": "markdown",
      "metadata": {
        "id": "rC97YvE6la7x"
      },
      "source": [
        "Reference from: https://github.com/VainF/Torch-Pruning"
      ]
    },
    {
      "cell_type": "code",
      "execution_count": null,
      "metadata": {
        "id": "BO-RyHKyhH8W"
      },
      "outputs": [],
      "source": [
        "!pip install torch-pruning --upgrade"
      ]
    },
    {
      "cell_type": "code",
      "execution_count": null,
      "metadata": {
        "id": "RKGs3duYhOxe"
      },
      "outputs": [],
      "source": [
        "import torch_pruning as tp\n",
        "device = torch.device(\"cuda\" if torch.cuda.is_available() else \"cpu\")\n",
        "imp = tp.importance.BNScaleImportance()\n",
        "\n",
        "ignored_layers = []\n",
        "for name, m in model.named_modules():\n",
        "    if isinstance(m, torch.nn.Linear) and m.out_features == 10:\n",
        "        ignored_layers.append(m)\n",
        "example_inputs = torch.randn(128, 3, 32, 32).to(device)\n",
        "pruner = tp.pruner.MetaPruner(\n",
        "    model,\n",
        "    example_inputs,\n",
        "    importance=imp,\n",
        "    pruning_ratio_dict = {\n",
        "        model.first_stack: 0.2,\n",
        "        model.second_stack: 0.3,\n",
        "        model.third_stack: 0.4,\n",
        "    },\n",
        "\n",
        "    ignored_layers=ignored_layers,\n",
        "    round_to=4,\n",
        ")\n",
        "base_macs, base_nparams = tp.utils.count_ops_and_params(model, example_inputs)\n",
        "pruner.step()\n",
        "macs, nparams = tp.utils.count_ops_and_params(model, example_inputs)\n",
        "print(f\"MACs: {base_macs/1e9} G -> {macs/1e9} G, #Params: {base_nparams/1e6} M -> {nparams/1e6} M\")"
      ]
    },
    {
      "cell_type": "code",
      "execution_count": null,
      "metadata": {
        "id": "yaw6CTUehYK9"
      },
      "outputs": [],
      "source": [
        "train(teacher_model, model, train_loader, val_loader, epochs=200, lr=0.001)"
      ]
    },
    {
      "cell_type": "code",
      "execution_count": null,
      "metadata": {
        "id": "fB8x38c2je-O"
      },
      "outputs": [],
      "source": [
        "def finetune(model, train_loader, val_loader, epochs=50, lr=0.001):\n",
        "    # Define the cross-entropy loss function\n",
        "    def cross_entropy_loss(student_logits, labels):\n",
        "        return F.cross_entropy(student_logits, labels)\n",
        "\n",
        "    model.train()\n",
        "\n",
        "    # Replace with AdamW optimizer\n",
        "    optimizer = torch.optim.AdamW(\n",
        "        model.parameters(),\n",
        "        lr=lr,\n",
        "        weight_decay=0.01  # Regularization term for AdamW\n",
        "    )\n",
        "\n",
        "    # Learning rate scheduler\n",
        "    scheduler = torch.optim.lr_scheduler.CosineAnnealingLR(optimizer, T_max=epochs)\n",
        "\n",
        "    # Directory to save training outputs\n",
        "    save_dir = \"./output\"\n",
        "    os.makedirs(save_dir, exist_ok=True)\n",
        "    device = torch.device(\"cuda\" if torch.cuda.is_available() else \"cpu\")\n",
        "\n",
        "    # Initialize the model\n",
        "    model.to(device)\n",
        "\n",
        "    # Training process\n",
        "    best_acc = 0\n",
        "    for epoch in range(epochs):\n",
        "        model.train()\n",
        "        running_loss = 0.0\n",
        "        correct_train = 0\n",
        "        total_train = 0\n",
        "\n",
        "        # Training loop\n",
        "        for inputs, labels in train_loader:\n",
        "            inputs, labels = inputs.to(device), labels.to(device)\n",
        "\n",
        "            student_logits = model(inputs)  # Student logits\n",
        "            loss = cross_entropy_loss(student_logits, labels)\n",
        "\n",
        "            optimizer.zero_grad()\n",
        "            loss.backward()\n",
        "            optimizer.step()\n",
        "\n",
        "            running_loss += loss.item()\n",
        "            _, predicted = student_logits.max(1)\n",
        "            total_train += labels.size(0)\n",
        "            correct_train += predicted.eq(labels).sum().item()\n",
        "\n",
        "        train_loss = running_loss / len(train_loader)\n",
        "        train_acc = 100.0 * correct_train / total_train\n",
        "\n",
        "        # valuate the model\n",
        "        model.eval()\n",
        "        val_loss = 0.0\n",
        "        correct_val = 0\n",
        "        total_val = 0\n",
        "        with torch.no_grad():\n",
        "            for inputs, labels in val_loader:\n",
        "                inputs, labels = inputs.to(device), labels.to(device)\n",
        "                outputs = model(inputs)\n",
        "                loss = F.cross_entropy(outputs, labels)\n",
        "                val_loss += loss.item()\n",
        "                _, predicted = outputs.max(1)\n",
        "                total_val += labels.size(0)\n",
        "                correct_val += predicted.eq(labels).sum().item()\n",
        "\n",
        "        val_loss /= len(val_loader)\n",
        "        val_acc = 100.0 * correct_val / total_val\n",
        "\n",
        "        print(f\"Epoch {epoch + 1}/{epochs} \", end=\"\")\n",
        "        print(f\"Train Loss: {train_loss:.4f}, Train Acc: {train_acc:.2f}% \", end=\"\")\n",
        "        print(f\"val Loss: {val_loss:.4f}, val Acc: {val_acc:.2f}% \")\n",
        "\n",
        "        scheduler.step()\n",
        "\n",
        "        # Save the best model\n",
        "        if val_acc > best_acc:\n",
        "            best_acc = val_acc\n",
        "            torch.save(model.state_dict(), os.path.join(save_dir, f\"best_model.pth\"))"
      ]
    },
    {
      "cell_type": "code",
      "execution_count": null,
      "metadata": {
        "id": "bSH1tceykn9n"
      },
      "outputs": [],
      "source": [
        "finetune(model, train_loader, val_loader, epochs=50, lr=0.001)"
      ]
    },
    {
      "cell_type": "markdown",
      "metadata": {
        "id": "rFpU0dtkkssj"
      },
      "source": [
        "## Quantization Aware Training and Convert to tflite"
      ]
    },
    {
      "cell_type": "markdown",
      "metadata": {
        "id": "1H_IEBjglt-5"
      },
      "source": [
        "Reference form: https://github.com/alibaba/TinyNeuralNetwork"
      ]
    },
    {
      "cell_type": "code",
      "execution_count": null,
      "metadata": {
        "id": "E-wo_NzKlwOk"
      },
      "outputs": [],
      "source": [
        "!pip install git+https://github.com/alibaba/TinyNeuralNetwork.git"
      ]
    },
    {
      "cell_type": "code",
      "execution_count": null,
      "metadata": {
        "id": "3YNVUeEGksT7"
      },
      "outputs": [],
      "source": [
        "import os\n",
        "import torch\n",
        "import torch.nn as nn\n",
        "import torch.optim as optim\n",
        "from torch.optim.lr_scheduler import CosineAnnealingLR\n",
        "from torchvision import datasets, transforms\n",
        "from tinynn.util.train_util import DLContext, get_device, train\n",
        "from tinynn.util.cifar10 import get_dataloader, train_one_epoch, train_one_epoch_distill, validate\n",
        "from tinynn.graph.quantization.quantizer import QATQuantizer\n",
        "from tinynn.converter import TFLiteConverter\n",
        "\n",
        "\n",
        "def quantization(model, train_loader, val_loader):\n",
        "    device = get_device()\n",
        "    model.to(device=device)\n",
        "\n",
        "    # Provide a dummy input for the model\n",
        "    dummy_input = torch.rand((1, 3, 32, 32))\n",
        "\n",
        "    # Get CIFAR-10 dataloaders\n",
        "    context = DLContext()\n",
        "    context.device = device\n",
        "    context.train_loader, context.val_loader = train_loader, val_loader\n",
        "\n",
        "    print(\"Validation accuracy of the original model\")\n",
        "    validate(model, context)\n",
        "\n",
        "    print(\"Start preparing the model for quantization\")\n",
        "    config = {\n",
        "        'backend': \"qnnpack\",\n",
        "        'force_overwrite': True,\n",
        "        'asymmetric': True,\n",
        "        'per_tensor': False,\n",
        "        'set_quantizable_op_stats': True\n",
        "    }\n",
        "    quantizer = QATQuantizer(model, dummy_input, work_dir='out', config=config)\n",
        "    qat_model = quantizer.quantize()\n",
        "\n",
        "    print(\"Start quantization-aware training\")\n",
        "    qat_model.to(device=device)\n",
        "\n",
        "    context = DLContext()\n",
        "    context.device = device\n",
        "    context.train_loader, context.val_loader = train_loader, val_loader\n",
        "    context.max_epoch = 5\n",
        "    context.criterion = nn.CrossEntropyLoss()\n",
        "    context.optimizer = torch.optim.SGD(\n",
        "        qat_model.parameters(),\n",
        "        lr=0.001,\n",
        "        momentum=0.9,\n",
        "        weight_decay=0.0005,\n",
        "        nesterov=True\n",
        "    )\n",
        "    context.scheduler = CosineAnnealingLR(context.optimizer, T_max=context.max_epoch + 1, eta_min=0)\n",
        "\n",
        "    # Perform QAT training\n",
        "    train(qat_model, context, train_one_epoch, validate, qat=True)\n",
        "\n",
        "    print(\"Start converting the model to TFLite\")\n",
        "    with torch.no_grad():\n",
        "        qat_model.eval()\n",
        "        qat_model.to('cpu')\n",
        "        dummy_input.to('cpu')\n",
        "        qat_model = quantizer.convert(qat_model)\n",
        "        torch.backends.quantized.engine = 'qnnpack'\n",
        "\n",
        "        # Convert the model to TFLite format\n",
        "        converter = TFLiteConverter(\n",
        "            qat_model, dummy_input, tflite_path='output/qat_model.tflite',\n",
        "            quantize_target_type='int8', fuse_quant_dequant=True,\n",
        "            rewrite_quantizable=True, tflite_micro_rewrite=True\n",
        "        )\n",
        "        converter.convert()\n",
        "\n",
        "    print(\"Quantization completed and model saved as TFLite.\")"
      ]
    },
    {
      "cell_type": "code",
      "execution_count": null,
      "metadata": {
        "id": "oHlF_hbennvv"
      },
      "outputs": [],
      "source": [
        "class ModelWithSoftmax(nn.Module):\n",
        "    def __init__(self, base_model):\n",
        "        super(ModelWithSoftmax, self).__init__()\n",
        "        self.base_model = base_model\n",
        "        self.softmax = nn.Softmax(dim=1)\n",
        "\n",
        "    def forward(self, x):\n",
        "        x = self.base_model(x)\n",
        "        return self.softmax(x)\n",
        "\n",
        "model = ModelWithSoftmax(model)\n",
        "quantization(model, train_loader, val_loader)"
      ]
    }
  ],
  "metadata": {
    "colab": {
      "provenance": []
    },
    "kernelspec": {
      "display_name": "Python 3",
      "name": "python3"
    },
    "language_info": {
      "name": "python"
    }
  },
  "nbformat": 4,
  "nbformat_minor": 0
}
